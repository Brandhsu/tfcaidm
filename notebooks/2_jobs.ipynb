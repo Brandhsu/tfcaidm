{
 "cells": [
  {
   "cell_type": "markdown",
   "metadata": {},
   "source": [
    "# 2. Creating Jobs"
   ]
  },
  {
   "cell_type": "code",
   "execution_count": 2,
   "metadata": {},
   "outputs": [],
   "source": [
    "import pandas as pd\n",
    "\n",
    "import tfcaidm\n",
    "from tfcaidm import Jobs"
   ]
  },
  {
   "cell_type": "markdown",
   "metadata": {
    "tags": []
   },
   "source": [
    "## Setup\n",
    "\n",
    "Recall that each configuration defines a set of runs or experiments. Thus after invoking a jobs creation `n` number of runs are created and queued onto the cluster or your local workstation."
   ]
  },
  {
   "cell_type": "code",
   "execution_count": 3,
   "metadata": {},
   "outputs": [],
   "source": [
    "YAML_PATH = \"/home/brandon/tfcaidm-pkg/configs/ymls/xr_pna/pipeline.yml\""
   ]
  },
  {
   "cell_type": "code",
   "execution_count": 4,
   "metadata": {
    "tags": []
   },
   "outputs": [
    {
     "name": "stdout",
     "output_type": "stream",
     "text": [
      "CPU times: user 25.7 ms, sys: 4.91 ms, total: 30.6 ms\n",
      "Wall time: 27.5 ms\n"
     ]
    }
   ],
   "source": [
    "%%time\n",
    "\n",
    "# --- Get hyperparameters\n",
    "runs = Jobs(path=YAML_PATH)\n",
    "\n",
    "# --- Hyperparameters for N runs\n",
    "all_hyperparams = runs.get_params()\n",
    "\n",
    "# --- Hyperparameters dataframe for visualization\n",
    "df_hyperparams = pd.DataFrame(all_hyperparams)"
   ]
  },
  {
   "cell_type": "code",
   "execution_count": 5,
   "metadata": {},
   "outputs": [
    {
     "data": {
      "text/html": [
       "<div>\n",
       "<style scoped>\n",
       "    .dataframe tbody tr th:only-of-type {\n",
       "        vertical-align: middle;\n",
       "    }\n",
       "\n",
       "    .dataframe tbody tr th {\n",
       "        vertical-align: top;\n",
       "    }\n",
       "\n",
       "    .dataframe thead th {\n",
       "        text-align: right;\n",
       "    }\n",
       "</style>\n",
       "<table border=\"1\" class=\"dataframe\">\n",
       "  <thead>\n",
       "    <tr style=\"text-align: right;\">\n",
       "      <th></th>\n",
       "      <th>env/path/root</th>\n",
       "      <th>env/path/name</th>\n",
       "      <th>env/path/client</th>\n",
       "      <th>model/model</th>\n",
       "      <th>model/conv_type</th>\n",
       "      <th>model/pool_type</th>\n",
       "      <th>model/eblock</th>\n",
       "      <th>model/elayer</th>\n",
       "      <th>model/dblock</th>\n",
       "      <th>model/depth</th>\n",
       "      <th>...</th>\n",
       "      <th>train/trainer/seed</th>\n",
       "      <th>train/trainer/n_folds</th>\n",
       "      <th>train/trainer/batch_size</th>\n",
       "      <th>train/trainer/iters</th>\n",
       "      <th>train/trainer/steps</th>\n",
       "      <th>train/trainer/valid_freq</th>\n",
       "      <th>train/trainer/lr</th>\n",
       "      <th>train/trainer/lr_alpha</th>\n",
       "      <th>train/trainer/lr_decay</th>\n",
       "      <th>train/trainer/callbacks</th>\n",
       "    </tr>\n",
       "  </thead>\n",
       "  <tbody>\n",
       "    <tr>\n",
       "      <th>0</th>\n",
       "      <td>exp</td>\n",
       "      <td>xr_pna</td>\n",
       "      <td>/home/brandon/tfcaidm-pkg/configs/ymls/xr_pna/...</td>\n",
       "      <td>unet</td>\n",
       "      <td>conv</td>\n",
       "      <td>conv</td>\n",
       "      <td>conv</td>\n",
       "      <td>1</td>\n",
       "      <td>conv</td>\n",
       "      <td>4</td>\n",
       "      <td>...</td>\n",
       "      <td>0</td>\n",
       "      <td>1</td>\n",
       "      <td>8</td>\n",
       "      <td>3000</td>\n",
       "      <td>100</td>\n",
       "      <td>5</td>\n",
       "      <td>0.00008</td>\n",
       "      <td>0.25</td>\n",
       "      <td>0.97</td>\n",
       "      <td>[checkpoint, lr_scheduler, tensorboard]</td>\n",
       "    </tr>\n",
       "  </tbody>\n",
       "</table>\n",
       "<p>1 rows × 40 columns</p>\n",
       "</div>"
      ],
      "text/plain": [
       "  env/path/root env/path/name  \\\n",
       "0           exp        xr_pna   \n",
       "\n",
       "                                     env/path/client model/model  \\\n",
       "0  /home/brandon/tfcaidm-pkg/configs/ymls/xr_pna/...        unet   \n",
       "\n",
       "  model/conv_type model/pool_type model/eblock  model/elayer model/dblock  \\\n",
       "0            conv            conv         conv             1         conv   \n",
       "\n",
       "   model/depth  ...  train/trainer/seed  train/trainer/n_folds  \\\n",
       "0            4  ...                   0                      1   \n",
       "\n",
       "  train/trainer/batch_size train/trainer/iters  train/trainer/steps  \\\n",
       "0                        8                3000                  100   \n",
       "\n",
       "   train/trainer/valid_freq  train/trainer/lr train/trainer/lr_alpha  \\\n",
       "0                         5           0.00008                   0.25   \n",
       "\n",
       "  train/trainer/lr_decay                  train/trainer/callbacks  \n",
       "0                   0.97  [checkpoint, lr_scheduler, tensorboard]  \n",
       "\n",
       "[1 rows x 40 columns]"
      ]
     },
     "execution_count": 5,
     "metadata": {},
     "output_type": "execute_result"
    }
   ],
   "source": [
    "df_hyperparams"
   ]
  },
  {
   "cell_type": "code",
   "execution_count": 6,
   "metadata": {},
   "outputs": [],
   "source": [
    "# ---- Hyperparameters for run #1\n",
    "hyperparams = all_hyperparams[0]"
   ]
  },
  {
   "cell_type": "markdown",
   "metadata": {},
   "source": [
    "### Dict tools"
   ]
  },
  {
   "cell_type": "code",
   "execution_count": 7,
   "metadata": {},
   "outputs": [],
   "source": [
    "from tfcaidm.jobs import params"
   ]
  },
  {
   "cell_type": "code",
   "execution_count": 8,
   "metadata": {},
   "outputs": [],
   "source": [
    "hp = params.HyperParameters(hyperparams)"
   ]
  },
  {
   "cell_type": "markdown",
   "metadata": {
    "tags": []
   },
   "source": [
    "Useful object to convert between\n",
    "\n",
    "* `csv` (flattened / unnested)\n",
    "* `dict` (unflattened / nested) \n",
    "\n",
    "formats to allow for easy integration between storing results and utilizing different config variables."
   ]
  },
  {
   "cell_type": "code",
   "execution_count": 9,
   "metadata": {},
   "outputs": [
    {
     "data": {
      "text/plain": [
       "{'env/path/root': 'exp',\n",
       " 'env/path/name': 'xr_pna',\n",
       " 'env/path/client': '/home/brandon/tfcaidm-pkg/configs/ymls/xr_pna/client.yml',\n",
       " 'model/model': 'unet',\n",
       " 'model/conv_type': 'conv',\n",
       " 'model/pool_type': 'conv',\n",
       " 'model/eblock': 'conv',\n",
       " 'model/elayer': 1,\n",
       " 'model/dblock': 'conv',\n",
       " 'model/depth': 4,\n",
       " 'model/width': 32,\n",
       " 'model/width_scaling': 1,\n",
       " 'model/kernel_size': [3, 3, 3],\n",
       " 'model/strides': [2, 2, 2],\n",
       " 'model/bneck': 2,\n",
       " 'model/branches': 4,\n",
       " 'model/atrous_rate': 6,\n",
       " 'model/order': 'rnc',\n",
       " 'model/norm': 'bnorm',\n",
       " 'model/activ': 'leaky',\n",
       " 'model/attn_msk': 'softmax',\n",
       " 'train/xs/dat': None,\n",
       " 'train/ys/pna/mask_id': 'msk',\n",
       " 'train/ys/pna/remove_bg': True,\n",
       " 'train/ys/pna/mask_weight': 1,\n",
       " 'train/ys/pna/output_weight': 5,\n",
       " 'train/ys/pna/head': 'decoder_classifier',\n",
       " 'train/ys/pna/n_classes': 2,\n",
       " 'train/ys/pna/loss': 'sce',\n",
       " 'train/ys/pna/metric': 'dice',\n",
       " 'train/trainer/seed': 0,\n",
       " 'train/trainer/n_folds': 1,\n",
       " 'train/trainer/batch_size': 8,\n",
       " 'train/trainer/iters': 3000,\n",
       " 'train/trainer/steps': 100,\n",
       " 'train/trainer/valid_freq': 5,\n",
       " 'train/trainer/lr': 8e-05,\n",
       " 'train/trainer/lr_alpha': 0.25,\n",
       " 'train/trainer/lr_decay': 0.97,\n",
       " 'train/trainer/callbacks': ['checkpoint', 'lr_scheduler', 'tensorboard']}"
      ]
     },
     "execution_count": 9,
     "metadata": {},
     "output_type": "execute_result"
    }
   ],
   "source": [
    "hp.flatten(hyperparams)"
   ]
  },
  {
   "cell_type": "code",
   "execution_count": 10,
   "metadata": {},
   "outputs": [
    {
     "data": {
      "text/plain": [
       "{'env': {'path': {'root': 'exp',\n",
       "   'name': 'xr_pna',\n",
       "   'client': '/home/brandon/tfcaidm-pkg/configs/ymls/xr_pna/client.yml'}},\n",
       " 'model': {'model': 'unet',\n",
       "  'conv_type': 'conv',\n",
       "  'pool_type': 'conv',\n",
       "  'eblock': 'conv',\n",
       "  'elayer': 1,\n",
       "  'dblock': 'conv',\n",
       "  'depth': 4,\n",
       "  'width': 32,\n",
       "  'width_scaling': 1,\n",
       "  'kernel_size': [3, 3, 3],\n",
       "  'strides': [2, 2, 2],\n",
       "  'bneck': 2,\n",
       "  'branches': 4,\n",
       "  'atrous_rate': 6,\n",
       "  'order': 'rnc',\n",
       "  'norm': 'bnorm',\n",
       "  'activ': 'leaky',\n",
       "  'attn_msk': 'softmax'},\n",
       " 'train': {'xs': {'dat': None},\n",
       "  'ys': {'pna': {'mask_id': 'msk',\n",
       "    'remove_bg': True,\n",
       "    'mask_weight': 1,\n",
       "    'output_weight': 5,\n",
       "    'head': 'decoder_classifier',\n",
       "    'n_classes': 2,\n",
       "    'loss': 'sce',\n",
       "    'metric': 'dice'}},\n",
       "  'trainer': {'seed': 0,\n",
       "   'n_folds': 1,\n",
       "   'batch_size': 8,\n",
       "   'iters': 3000,\n",
       "   'steps': 100,\n",
       "   'valid_freq': 5,\n",
       "   'lr': 8e-05,\n",
       "   'lr_alpha': 0.25,\n",
       "   'lr_decay': 0.97,\n",
       "   'callbacks': ['checkpoint', 'lr_scheduler', 'tensorboard']}}}"
      ]
     },
     "execution_count": 10,
     "metadata": {},
     "output_type": "execute_result"
    }
   ],
   "source": [
    "hp.unflatten(hyperparams)"
   ]
  },
  {
   "cell_type": "markdown",
   "metadata": {},
   "source": [
    "## Submitting training jobs\n",
    "\n",
    "The sole purpose of creating jobs is to enable training of various deep learning models at scale. They can be created to run either locally or on the caidm compute clusters, both examples are shown below.\n",
    "\n",
    "<strong> The main thing to take note of is that files for job submission must be separate from the actual code running the training loop. <strong>"
   ]
  },
  {
   "cell_type": "markdown",
   "metadata": {},
   "source": [
    "### Setup"
   ]
  },
  {
   "cell_type": "markdown",
   "metadata": {},
   "source": [
    "```python\n",
    "\"\"\"Training setup\n",
    "\n",
    "Args:\n",
    "    producer (__file__): must be set to __file__\n",
    "    consumer (string): file path in the same dir as producer\n",
    "    root (string): base dir of experiments\n",
    "    name (string): name of experiment\n",
    "    libraries (list of tuples (lib, version)): optional libs to pip install\n",
    "\"\"\"\n",
    "\n",
    "runs.setup(\n",
    "    producer=__file__,\n",
    "    consumer=\"__init__.py\",\n",
    "    root=\"nb\",\n",
    "    name=\"xr_pna\",\n",
    "    libraries=[],\n",
    ")\n",
    "\n",
    "```"
   ]
  },
  {
   "cell_type": "markdown",
   "metadata": {},
   "source": [
    "### Local training"
   ]
  },
  {
   "cell_type": "markdown",
   "metadata": {},
   "source": [
    "```python\n",
    "\"\"\"Local training\n",
    "\n",
    "Args:\n",
    "    run (bool): flag to start training\n",
    "\"\"\"\n",
    "\n",
    "runs.train_local(run=False)\n",
    "\n",
    "```"
   ]
  },
  {
   "cell_type": "markdown",
   "metadata": {},
   "source": [
    "### Cluster training"
   ]
  },
  {
   "cell_type": "markdown",
   "metadata": {},
   "source": [
    "```python\n",
    "\"\"\"Cluster training\n",
    "\n",
    "Args:\n",
    "    gpu (string): name of gpu to run, based on regex matching\n",
    "    num_gpus (int): number of gpus to use for training\n",
    "    run (bool): flag to start training\n",
    "\"\"\"\n",
    "\n",
    "runs.train_cluster(gpu=\"titan|rtx\", num_gpus=1, run=False)\n",
    "\n",
    "```"
   ]
  }
 ],
 "metadata": {
  "kernelspec": {
   "display_name": "Python 3",
   "language": "python",
   "name": "python3"
  },
  "language_info": {
   "codemirror_mode": {
    "name": "ipython",
    "version": 3
   },
   "file_extension": ".py",
   "mimetype": "text/x-python",
   "name": "python",
   "nbconvert_exporter": "python",
   "pygments_lexer": "ipython3",
   "version": "3.8.5"
  }
 },
 "nbformat": 4,
 "nbformat_minor": 5
}
