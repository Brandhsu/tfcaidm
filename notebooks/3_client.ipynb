{
 "cells": [
  {
   "cell_type": "markdown",
   "metadata": {
    "tags": []
   },
   "source": [
    "# 3. Data client\n",
    "\n",
    "This library extends the client defined in `jarvis-md`."
   ]
  },
  {
   "cell_type": "code",
   "execution_count": 1,
   "metadata": {},
   "outputs": [],
   "source": [
    "from __init__ import set_path\n",
    "\n",
    "set_path()"
   ]
  },
  {
   "cell_type": "code",
   "execution_count": 16,
   "metadata": {},
   "outputs": [],
   "source": [
    "import pandas as pd\n",
    "\n",
    "from tfcaidm import Jobs\n",
    "from tfcaidm import JClient\n",
    "from tfcaidm import Dataset"
   ]
  },
  {
   "cell_type": "markdown",
   "metadata": {
    "tags": []
   },
   "source": [
    "## Setup\n",
    "\n",
    "To initialize the client, a set of hyperparameters need to be passed in."
   ]
  },
  {
   "cell_type": "code",
   "execution_count": 3,
   "metadata": {},
   "outputs": [],
   "source": [
    "YAML_PATH = \"/home/brandon/tfcaidm-pkg/configs/ymls/xr_pna/pipeline.yml\""
   ]
  },
  {
   "cell_type": "code",
   "execution_count": 4,
   "metadata": {},
   "outputs": [],
   "source": [
    "# --- Get hyperparameters\n",
    "runs = Jobs(path=YAML_PATH)\n",
    "\n",
    "# --- Hyperparameters for N runs\n",
    "all_hyperparams = runs.get_params()\n",
    "\n",
    "# ---- Hyperparameters for run #1\n",
    "hyperparams = all_hyperparams[0]"
   ]
  },
  {
   "cell_type": "markdown",
   "metadata": {},
   "source": [
    "The `jarvis client` is used as an interface to locate and preprocess a dataset. It's path is also stored in the hyperparams dict as a path.\n",
    "\n",
    "More information on the `jarvis client` can be viewed [here](https://github.com/peterchang77/dl_tutor/blob/master/jarvis/configs/client/client-use.ipynb)."
   ]
  },
  {
   "cell_type": "markdown",
   "metadata": {},
   "source": [
    "### Jarvis client"
   ]
  },
  {
   "cell_type": "code",
   "execution_count": 11,
   "metadata": {},
   "outputs": [
    {
     "data": {
      "text/plain": [
       "{'_id': {'project': 'xr/pna', 'version': None},\n",
       " '_db': '/data/ymls/db-sum-pub-01k-512.yml',\n",
       " 'batch': {'fold': 0,\n",
       "  'size': 8,\n",
       "  'sampling': {'cohort-neg': 0.5, 'cohort-pna': 0.5}},\n",
       " 'specs': {'xs': {'dat': {'dtype': 'float32',\n",
       "    'loads': 'dat-512',\n",
       "    'norms': {'shift': '@mean', 'scale': '@std'},\n",
       "    'rands': {'shift': {'lower': 0.9, 'upper': 1.1},\n",
       "     'scale': {'lower': 0.9, 'upper': 1.1}},\n",
       "    'shape': [1, 512, 512, 1]},\n",
       "   'msk': {'dtype': 'float32',\n",
       "    'loads': 'lng-512',\n",
       "    'norms': None,\n",
       "    'shape': [1, 512, 512, 1]}},\n",
       "  'ys': {'pna': {'dtype': 'uint8',\n",
       "    'loads': 'pna-512',\n",
       "    'norms': None,\n",
       "    'shape': [1, 512, 512, 1]}},\n",
       "  'load_kwargs': {'verbose': False}}}"
      ]
     },
     "execution_count": 11,
     "metadata": {},
     "output_type": "execute_result"
    }
   ],
   "source": [
    "client_path = runs.config[\"env\"][\"path\"][\"client\"]\n",
    "runs.load_yaml(client_path)"
   ]
  },
  {
   "cell_type": "markdown",
   "metadata": {},
   "source": [
    "Most importantly, the client uses a combination of the `_id` and `_db` field to search for the actual dataset. The client is a high-level outputs for data management and loading, not the actual location of the data!"
   ]
  },
  {
   "cell_type": "markdown",
   "metadata": {},
   "source": [
    "---\n",
    "\n",
    "<strong>tfcaidm</strong> uses an inherited version of the jarvis client which uses all the features of the original jarvis client plus extra features."
   ]
  },
  {
   "cell_type": "code",
   "execution_count": 21,
   "metadata": {},
   "outputs": [],
   "source": [
    "# --- Create a jarvis client object\n",
    "path = hyperparams[\"env/path/client\"]\n",
    "jclient = JClient(path, hyperparams=hyperparams)"
   ]
  },
  {
   "cell_type": "markdown",
   "metadata": {},
   "source": [
    "A slightly less verbose alternative for `JClient` is `Dataset`, which handles all of the hyperparameter parsing requirements."
   ]
  },
  {
   "cell_type": "code",
   "execution_count": 22,
   "metadata": {},
   "outputs": [],
   "source": [
    "jclient = Dataset(hyperparams).get_client(fold=0)"
   ]
  },
  {
   "cell_type": "markdown",
   "metadata": {},
   "source": [
    "## Inspecting\n",
    "\n",
    "Several attributes and methods are provided by jclient which include hyperparameter settings and dataset information and statistics."
   ]
  },
  {
   "cell_type": "markdown",
   "metadata": {},
   "source": [
    "### Hyperparameters"
   ]
  },
  {
   "cell_type": "code",
   "execution_count": 23,
   "metadata": {},
   "outputs": [
    {
     "data": {
      "text/plain": [
       "{'env': {'path': {'root': 'exp',\n",
       "   'name': 'xr_pna',\n",
       "   'client': '/home/brandon/tfcaidm-pkg/configs/ymls/xr_pna/client.yml'}},\n",
       " 'model': {'model': 'unet',\n",
       "  'conv_type': 'conv',\n",
       "  'pool_type': 'conv',\n",
       "  'eblock': 'conv',\n",
       "  'elayer': 1,\n",
       "  'dblock': 'conv',\n",
       "  'depth': 4,\n",
       "  'width': 32,\n",
       "  'width_scaling': 1,\n",
       "  'kernel_size': [3, 3, 3],\n",
       "  'strides': [2, 2, 2],\n",
       "  'bneck': 2,\n",
       "  'branches': 4,\n",
       "  'atrous_rate': 6,\n",
       "  'order': 'rnc',\n",
       "  'norm': 'bnorm',\n",
       "  'activ': 'leaky',\n",
       "  'attn_msk': 'softmax'},\n",
       " 'train': {'xs': {'dat': None},\n",
       "  'ys': {'pna': {'mask_id': 'msk',\n",
       "    'remove_bg': True,\n",
       "    'mask_weight': 1,\n",
       "    'output_weight': 5,\n",
       "    'head': 'decoder_classifier',\n",
       "    'n_classes': 2,\n",
       "    'loss': 'sce',\n",
       "    'metric': 'dice'}},\n",
       "  'trainer': {'seed': 0,\n",
       "   'n_folds': 1,\n",
       "   'batch_size': 8,\n",
       "   'iters': 3000,\n",
       "   'steps': 100,\n",
       "   'valid_freq': 5,\n",
       "   'lr': 8e-05,\n",
       "   'lr_alpha': 0.25,\n",
       "   'lr_decay': 0.97,\n",
       "   'callbacks': ['checkpoint', 'lr_scheduler', 'tensorboard']}}}"
      ]
     },
     "execution_count": 23,
     "metadata": {},
     "output_type": "execute_result"
    }
   ],
   "source": [
    "jclient.hyperparams"
   ]
  },
  {
   "cell_type": "markdown",
   "metadata": {},
   "source": [
    "### Dataset information"
   ]
  },
  {
   "cell_type": "markdown",
   "metadata": {},
   "source": [
    "#### DataFrame\n",
    "\n",
    "The client object has some built in features to view dataset statistics in the form of a pandas dataframe and python dictionaries."
   ]
  },
  {
   "cell_type": "code",
   "execution_count": 24,
   "metadata": {},
   "outputs": [
    {
     "data": {
      "text/html": [
       "<div>\n",
       "<style scoped>\n",
       "    .dataframe tbody tr th:only-of-type {\n",
       "        vertical-align: middle;\n",
       "    }\n",
       "\n",
       "    .dataframe tbody tr th {\n",
       "        vertical-align: top;\n",
       "    }\n",
       "\n",
       "    .dataframe thead th {\n",
       "        text-align: right;\n",
       "    }\n",
       "</style>\n",
       "<table border=\"1\" class=\"dataframe\">\n",
       "  <thead>\n",
       "    <tr style=\"text-align: right;\">\n",
       "      <th></th>\n",
       "      <th>class</th>\n",
       "      <th>area</th>\n",
       "      <th>cohort-neg</th>\n",
       "      <th>cohort-pna</th>\n",
       "      <th>valid</th>\n",
       "    </tr>\n",
       "    <tr>\n",
       "      <th>sid</th>\n",
       "      <th></th>\n",
       "      <th></th>\n",
       "      <th></th>\n",
       "      <th></th>\n",
       "      <th></th>\n",
       "    </tr>\n",
       "  </thead>\n",
       "  <tbody>\n",
       "    <tr>\n",
       "      <th>000924cf-0f8d-42bd-9158-1af53881a557</th>\n",
       "      <td>0</td>\n",
       "      <td></td>\n",
       "      <td>True</td>\n",
       "      <td>False</td>\n",
       "      <td>2</td>\n",
       "    </tr>\n",
       "    <tr>\n",
       "      <th>0010f549-b242-4e94-87a8-57d79de215fc</th>\n",
       "      <td>0</td>\n",
       "      <td></td>\n",
       "      <td>True</td>\n",
       "      <td>False</td>\n",
       "      <td>3</td>\n",
       "    </tr>\n",
       "    <tr>\n",
       "      <th>0022995a-45eb-4cfa-9a59-cd15f5196c64</th>\n",
       "      <td>0</td>\n",
       "      <td></td>\n",
       "      <td>True</td>\n",
       "      <td>False</td>\n",
       "      <td>4</td>\n",
       "    </tr>\n",
       "    <tr>\n",
       "      <th>0025d2de-bd78-4d36-9f72-e15a5e22ca82</th>\n",
       "      <td>0</td>\n",
       "      <td></td>\n",
       "      <td>True</td>\n",
       "      <td>False</td>\n",
       "      <td>1</td>\n",
       "    </tr>\n",
       "    <tr>\n",
       "      <th>00293de0-a530-41dc-9621-0b3def01d06d</th>\n",
       "      <td>0</td>\n",
       "      <td></td>\n",
       "      <td>True</td>\n",
       "      <td>False</td>\n",
       "      <td>0</td>\n",
       "    </tr>\n",
       "    <tr>\n",
       "      <th>...</th>\n",
       "      <td>...</td>\n",
       "      <td>...</td>\n",
       "      <td>...</td>\n",
       "      <td>...</td>\n",
       "      <td>...</td>\n",
       "    </tr>\n",
       "    <tr>\n",
       "      <th>160786ef-dd0f-4c51-8268-b6faa3cfe59b</th>\n",
       "      <td>2</td>\n",
       "      <td></td>\n",
       "      <td>False</td>\n",
       "      <td>True</td>\n",
       "      <td>0</td>\n",
       "    </tr>\n",
       "    <tr>\n",
       "      <th>160d4148-6c88-47fb-ad49-b4965eb8a931</th>\n",
       "      <td>2</td>\n",
       "      <td></td>\n",
       "      <td>False</td>\n",
       "      <td>True</td>\n",
       "      <td>0</td>\n",
       "    </tr>\n",
       "    <tr>\n",
       "      <th>16105557-552b-498e-af02-9f0285876567</th>\n",
       "      <td>2</td>\n",
       "      <td></td>\n",
       "      <td>False</td>\n",
       "      <td>True</td>\n",
       "      <td>2</td>\n",
       "    </tr>\n",
       "    <tr>\n",
       "      <th>1614564a-fe0d-43dc-87ae-299d859959f6</th>\n",
       "      <td>2</td>\n",
       "      <td></td>\n",
       "      <td>False</td>\n",
       "      <td>True</td>\n",
       "      <td>0</td>\n",
       "    </tr>\n",
       "    <tr>\n",
       "      <th>1617a0bd-1dcf-45a5-8f0c-e0fcbadd48ce</th>\n",
       "      <td>2</td>\n",
       "      <td></td>\n",
       "      <td>False</td>\n",
       "      <td>True</td>\n",
       "      <td>0</td>\n",
       "    </tr>\n",
       "  </tbody>\n",
       "</table>\n",
       "<p>1000 rows × 5 columns</p>\n",
       "</div>"
      ],
      "text/plain": [
       "                                      class area  cohort-neg  cohort-pna  \\\n",
       "sid                                                                        \n",
       "000924cf-0f8d-42bd-9158-1af53881a557      0             True       False   \n",
       "0010f549-b242-4e94-87a8-57d79de215fc      0             True       False   \n",
       "0022995a-45eb-4cfa-9a59-cd15f5196c64      0             True       False   \n",
       "0025d2de-bd78-4d36-9f72-e15a5e22ca82      0             True       False   \n",
       "00293de0-a530-41dc-9621-0b3def01d06d      0             True       False   \n",
       "...                                     ...  ...         ...         ...   \n",
       "160786ef-dd0f-4c51-8268-b6faa3cfe59b      2            False        True   \n",
       "160d4148-6c88-47fb-ad49-b4965eb8a931      2            False        True   \n",
       "16105557-552b-498e-af02-9f0285876567      2            False        True   \n",
       "1614564a-fe0d-43dc-87ae-299d859959f6      2            False        True   \n",
       "1617a0bd-1dcf-45a5-8f0c-e0fcbadd48ce      2            False        True   \n",
       "\n",
       "                                      valid  \n",
       "sid                                          \n",
       "000924cf-0f8d-42bd-9158-1af53881a557      2  \n",
       "0010f549-b242-4e94-87a8-57d79de215fc      3  \n",
       "0022995a-45eb-4cfa-9a59-cd15f5196c64      4  \n",
       "0025d2de-bd78-4d36-9f72-e15a5e22ca82      1  \n",
       "00293de0-a530-41dc-9621-0b3def01d06d      0  \n",
       "...                                     ...  \n",
       "160786ef-dd0f-4c51-8268-b6faa3cfe59b      0  \n",
       "160d4148-6c88-47fb-ad49-b4965eb8a931      0  \n",
       "16105557-552b-498e-af02-9f0285876567      2  \n",
       "1614564a-fe0d-43dc-87ae-299d859959f6      0  \n",
       "1617a0bd-1dcf-45a5-8f0c-e0fcbadd48ce      0  \n",
       "\n",
       "[1000 rows x 5 columns]"
      ]
     },
     "execution_count": 24,
     "metadata": {},
     "output_type": "execute_result"
    }
   ],
   "source": [
    "jclient.db.header"
   ]
  },
  {
   "cell_type": "code",
   "execution_count": 25,
   "metadata": {},
   "outputs": [
    {
     "data": {
      "text/html": [
       "<div>\n",
       "<style scoped>\n",
       "    .dataframe tbody tr th:only-of-type {\n",
       "        vertical-align: middle;\n",
       "    }\n",
       "\n",
       "    .dataframe tbody tr th {\n",
       "        vertical-align: top;\n",
       "    }\n",
       "\n",
       "    .dataframe thead th {\n",
       "        text-align: right;\n",
       "    }\n",
       "</style>\n",
       "<table border=\"1\" class=\"dataframe\">\n",
       "  <thead>\n",
       "    <tr style=\"text-align: right;\">\n",
       "      <th></th>\n",
       "      <th>dat-512</th>\n",
       "      <th>lng-512</th>\n",
       "      <th>pna-512</th>\n",
       "      <th>box-512</th>\n",
       "    </tr>\n",
       "    <tr>\n",
       "      <th>sid</th>\n",
       "      <th></th>\n",
       "      <th></th>\n",
       "      <th></th>\n",
       "      <th></th>\n",
       "    </tr>\n",
       "  </thead>\n",
       "  <tbody>\n",
       "    <tr>\n",
       "      <th>000924cf-0f8d-42bd-9158-1af53881a557</th>\n",
       "      <td>/proc/512/000924cf-0f8d-42bd-9158-1af53881a557...</td>\n",
       "      <td>/proc/512/000924cf-0f8d-42bd-9158-1af53881a557...</td>\n",
       "      <td>/proc/512/000924cf-0f8d-42bd-9158-1af53881a557...</td>\n",
       "      <td>/proc/512/000924cf-0f8d-42bd-9158-1af53881a557...</td>\n",
       "    </tr>\n",
       "    <tr>\n",
       "      <th>0010f549-b242-4e94-87a8-57d79de215fc</th>\n",
       "      <td>/proc/512/0010f549-b242-4e94-87a8-57d79de215fc...</td>\n",
       "      <td>/proc/512/0010f549-b242-4e94-87a8-57d79de215fc...</td>\n",
       "      <td>/proc/512/0010f549-b242-4e94-87a8-57d79de215fc...</td>\n",
       "      <td>/proc/512/0010f549-b242-4e94-87a8-57d79de215fc...</td>\n",
       "    </tr>\n",
       "    <tr>\n",
       "      <th>0022995a-45eb-4cfa-9a59-cd15f5196c64</th>\n",
       "      <td>/proc/512/0022995a-45eb-4cfa-9a59-cd15f5196c64...</td>\n",
       "      <td>/proc/512/0022995a-45eb-4cfa-9a59-cd15f5196c64...</td>\n",
       "      <td>/proc/512/0022995a-45eb-4cfa-9a59-cd15f5196c64...</td>\n",
       "      <td>/proc/512/0022995a-45eb-4cfa-9a59-cd15f5196c64...</td>\n",
       "    </tr>\n",
       "    <tr>\n",
       "      <th>0025d2de-bd78-4d36-9f72-e15a5e22ca82</th>\n",
       "      <td>/proc/512/0025d2de-bd78-4d36-9f72-e15a5e22ca82...</td>\n",
       "      <td>/proc/512/0025d2de-bd78-4d36-9f72-e15a5e22ca82...</td>\n",
       "      <td>/proc/512/0025d2de-bd78-4d36-9f72-e15a5e22ca82...</td>\n",
       "      <td>/proc/512/0025d2de-bd78-4d36-9f72-e15a5e22ca82...</td>\n",
       "    </tr>\n",
       "    <tr>\n",
       "      <th>00293de0-a530-41dc-9621-0b3def01d06d</th>\n",
       "      <td>/proc/512/00293de0-a530-41dc-9621-0b3def01d06d...</td>\n",
       "      <td>/proc/512/00293de0-a530-41dc-9621-0b3def01d06d...</td>\n",
       "      <td>/proc/512/00293de0-a530-41dc-9621-0b3def01d06d...</td>\n",
       "      <td>/proc/512/00293de0-a530-41dc-9621-0b3def01d06d...</td>\n",
       "    </tr>\n",
       "    <tr>\n",
       "      <th>...</th>\n",
       "      <td>...</td>\n",
       "      <td>...</td>\n",
       "      <td>...</td>\n",
       "      <td>...</td>\n",
       "    </tr>\n",
       "    <tr>\n",
       "      <th>160786ef-dd0f-4c51-8268-b6faa3cfe59b</th>\n",
       "      <td>/proc/512/160786ef-dd0f-4c51-8268-b6faa3cfe59b...</td>\n",
       "      <td>/proc/512/160786ef-dd0f-4c51-8268-b6faa3cfe59b...</td>\n",
       "      <td>/proc/512/160786ef-dd0f-4c51-8268-b6faa3cfe59b...</td>\n",
       "      <td>/proc/512/160786ef-dd0f-4c51-8268-b6faa3cfe59b...</td>\n",
       "    </tr>\n",
       "    <tr>\n",
       "      <th>160d4148-6c88-47fb-ad49-b4965eb8a931</th>\n",
       "      <td>/proc/512/160d4148-6c88-47fb-ad49-b4965eb8a931...</td>\n",
       "      <td>/proc/512/160d4148-6c88-47fb-ad49-b4965eb8a931...</td>\n",
       "      <td>/proc/512/160d4148-6c88-47fb-ad49-b4965eb8a931...</td>\n",
       "      <td>/proc/512/160d4148-6c88-47fb-ad49-b4965eb8a931...</td>\n",
       "    </tr>\n",
       "    <tr>\n",
       "      <th>16105557-552b-498e-af02-9f0285876567</th>\n",
       "      <td>/proc/512/16105557-552b-498e-af02-9f0285876567...</td>\n",
       "      <td>/proc/512/16105557-552b-498e-af02-9f0285876567...</td>\n",
       "      <td>/proc/512/16105557-552b-498e-af02-9f0285876567...</td>\n",
       "      <td>/proc/512/16105557-552b-498e-af02-9f0285876567...</td>\n",
       "    </tr>\n",
       "    <tr>\n",
       "      <th>1614564a-fe0d-43dc-87ae-299d859959f6</th>\n",
       "      <td>/proc/512/1614564a-fe0d-43dc-87ae-299d859959f6...</td>\n",
       "      <td>/proc/512/1614564a-fe0d-43dc-87ae-299d859959f6...</td>\n",
       "      <td>/proc/512/1614564a-fe0d-43dc-87ae-299d859959f6...</td>\n",
       "      <td>/proc/512/1614564a-fe0d-43dc-87ae-299d859959f6...</td>\n",
       "    </tr>\n",
       "    <tr>\n",
       "      <th>1617a0bd-1dcf-45a5-8f0c-e0fcbadd48ce</th>\n",
       "      <td>/proc/512/1617a0bd-1dcf-45a5-8f0c-e0fcbadd48ce...</td>\n",
       "      <td>/proc/512/1617a0bd-1dcf-45a5-8f0c-e0fcbadd48ce...</td>\n",
       "      <td>/proc/512/1617a0bd-1dcf-45a5-8f0c-e0fcbadd48ce...</td>\n",
       "      <td>/proc/512/1617a0bd-1dcf-45a5-8f0c-e0fcbadd48ce...</td>\n",
       "    </tr>\n",
       "  </tbody>\n",
       "</table>\n",
       "<p>1000 rows × 4 columns</p>\n",
       "</div>"
      ],
      "text/plain": [
       "                                                                                dat-512  \\\n",
       "sid                                                                                       \n",
       "000924cf-0f8d-42bd-9158-1af53881a557  /proc/512/000924cf-0f8d-42bd-9158-1af53881a557...   \n",
       "0010f549-b242-4e94-87a8-57d79de215fc  /proc/512/0010f549-b242-4e94-87a8-57d79de215fc...   \n",
       "0022995a-45eb-4cfa-9a59-cd15f5196c64  /proc/512/0022995a-45eb-4cfa-9a59-cd15f5196c64...   \n",
       "0025d2de-bd78-4d36-9f72-e15a5e22ca82  /proc/512/0025d2de-bd78-4d36-9f72-e15a5e22ca82...   \n",
       "00293de0-a530-41dc-9621-0b3def01d06d  /proc/512/00293de0-a530-41dc-9621-0b3def01d06d...   \n",
       "...                                                                                 ...   \n",
       "160786ef-dd0f-4c51-8268-b6faa3cfe59b  /proc/512/160786ef-dd0f-4c51-8268-b6faa3cfe59b...   \n",
       "160d4148-6c88-47fb-ad49-b4965eb8a931  /proc/512/160d4148-6c88-47fb-ad49-b4965eb8a931...   \n",
       "16105557-552b-498e-af02-9f0285876567  /proc/512/16105557-552b-498e-af02-9f0285876567...   \n",
       "1614564a-fe0d-43dc-87ae-299d859959f6  /proc/512/1614564a-fe0d-43dc-87ae-299d859959f6...   \n",
       "1617a0bd-1dcf-45a5-8f0c-e0fcbadd48ce  /proc/512/1617a0bd-1dcf-45a5-8f0c-e0fcbadd48ce...   \n",
       "\n",
       "                                                                                lng-512  \\\n",
       "sid                                                                                       \n",
       "000924cf-0f8d-42bd-9158-1af53881a557  /proc/512/000924cf-0f8d-42bd-9158-1af53881a557...   \n",
       "0010f549-b242-4e94-87a8-57d79de215fc  /proc/512/0010f549-b242-4e94-87a8-57d79de215fc...   \n",
       "0022995a-45eb-4cfa-9a59-cd15f5196c64  /proc/512/0022995a-45eb-4cfa-9a59-cd15f5196c64...   \n",
       "0025d2de-bd78-4d36-9f72-e15a5e22ca82  /proc/512/0025d2de-bd78-4d36-9f72-e15a5e22ca82...   \n",
       "00293de0-a530-41dc-9621-0b3def01d06d  /proc/512/00293de0-a530-41dc-9621-0b3def01d06d...   \n",
       "...                                                                                 ...   \n",
       "160786ef-dd0f-4c51-8268-b6faa3cfe59b  /proc/512/160786ef-dd0f-4c51-8268-b6faa3cfe59b...   \n",
       "160d4148-6c88-47fb-ad49-b4965eb8a931  /proc/512/160d4148-6c88-47fb-ad49-b4965eb8a931...   \n",
       "16105557-552b-498e-af02-9f0285876567  /proc/512/16105557-552b-498e-af02-9f0285876567...   \n",
       "1614564a-fe0d-43dc-87ae-299d859959f6  /proc/512/1614564a-fe0d-43dc-87ae-299d859959f6...   \n",
       "1617a0bd-1dcf-45a5-8f0c-e0fcbadd48ce  /proc/512/1617a0bd-1dcf-45a5-8f0c-e0fcbadd48ce...   \n",
       "\n",
       "                                                                                pna-512  \\\n",
       "sid                                                                                       \n",
       "000924cf-0f8d-42bd-9158-1af53881a557  /proc/512/000924cf-0f8d-42bd-9158-1af53881a557...   \n",
       "0010f549-b242-4e94-87a8-57d79de215fc  /proc/512/0010f549-b242-4e94-87a8-57d79de215fc...   \n",
       "0022995a-45eb-4cfa-9a59-cd15f5196c64  /proc/512/0022995a-45eb-4cfa-9a59-cd15f5196c64...   \n",
       "0025d2de-bd78-4d36-9f72-e15a5e22ca82  /proc/512/0025d2de-bd78-4d36-9f72-e15a5e22ca82...   \n",
       "00293de0-a530-41dc-9621-0b3def01d06d  /proc/512/00293de0-a530-41dc-9621-0b3def01d06d...   \n",
       "...                                                                                 ...   \n",
       "160786ef-dd0f-4c51-8268-b6faa3cfe59b  /proc/512/160786ef-dd0f-4c51-8268-b6faa3cfe59b...   \n",
       "160d4148-6c88-47fb-ad49-b4965eb8a931  /proc/512/160d4148-6c88-47fb-ad49-b4965eb8a931...   \n",
       "16105557-552b-498e-af02-9f0285876567  /proc/512/16105557-552b-498e-af02-9f0285876567...   \n",
       "1614564a-fe0d-43dc-87ae-299d859959f6  /proc/512/1614564a-fe0d-43dc-87ae-299d859959f6...   \n",
       "1617a0bd-1dcf-45a5-8f0c-e0fcbadd48ce  /proc/512/1617a0bd-1dcf-45a5-8f0c-e0fcbadd48ce...   \n",
       "\n",
       "                                                                                box-512  \n",
       "sid                                                                                      \n",
       "000924cf-0f8d-42bd-9158-1af53881a557  /proc/512/000924cf-0f8d-42bd-9158-1af53881a557...  \n",
       "0010f549-b242-4e94-87a8-57d79de215fc  /proc/512/0010f549-b242-4e94-87a8-57d79de215fc...  \n",
       "0022995a-45eb-4cfa-9a59-cd15f5196c64  /proc/512/0022995a-45eb-4cfa-9a59-cd15f5196c64...  \n",
       "0025d2de-bd78-4d36-9f72-e15a5e22ca82  /proc/512/0025d2de-bd78-4d36-9f72-e15a5e22ca82...  \n",
       "00293de0-a530-41dc-9621-0b3def01d06d  /proc/512/00293de0-a530-41dc-9621-0b3def01d06d...  \n",
       "...                                                                                 ...  \n",
       "160786ef-dd0f-4c51-8268-b6faa3cfe59b  /proc/512/160786ef-dd0f-4c51-8268-b6faa3cfe59b...  \n",
       "160d4148-6c88-47fb-ad49-b4965eb8a931  /proc/512/160d4148-6c88-47fb-ad49-b4965eb8a931...  \n",
       "16105557-552b-498e-af02-9f0285876567  /proc/512/16105557-552b-498e-af02-9f0285876567...  \n",
       "1614564a-fe0d-43dc-87ae-299d859959f6  /proc/512/1614564a-fe0d-43dc-87ae-299d859959f6...  \n",
       "1617a0bd-1dcf-45a5-8f0c-e0fcbadd48ce  /proc/512/1617a0bd-1dcf-45a5-8f0c-e0fcbadd48ce...  \n",
       "\n",
       "[1000 rows x 4 columns]"
      ]
     },
     "execution_count": 25,
     "metadata": {},
     "output_type": "execute_result"
    }
   ],
   "source": [
    "jclient.db.fnames"
   ]
  },
  {
   "cell_type": "markdown",
   "metadata": {},
   "source": [
    "#### Dictionaries\n",
    "\n",
    "Some additional features include viewing model input and output shapes as well as the dataset size. These methods are based on the `db.header` attribute, so for additional use-cases refer to `db.header`."
   ]
  },
  {
   "cell_type": "code",
   "execution_count": 26,
   "metadata": {},
   "outputs": [],
   "source": [
    "xs = jclient.get_input_shapes()\n",
    "ys = jclient.get_output_shapes()"
   ]
  },
  {
   "cell_type": "code",
   "execution_count": 27,
   "metadata": {},
   "outputs": [
    {
     "data": {
      "text/plain": [
       "({'dat': [1, 512, 512, 1]}, {'pna': [1, 512, 512, 1], 'msk': [1, 512, 512, 1]})"
      ]
     },
     "execution_count": 27,
     "metadata": {},
     "output_type": "execute_result"
    }
   ],
   "source": [
    "xs, ys"
   ]
  },
  {
   "cell_type": "markdown",
   "metadata": {},
   "source": [
    "The `fold` arg can take on values {-1, 0, 1, 2, 3, 4} where -1 specifies training over the entire dataset."
   ]
  },
  {
   "cell_type": "code",
   "execution_count": 28,
   "metadata": {},
   "outputs": [
    {
     "data": {
      "text/plain": [
       "{'train': '800', 'valid': '200'}"
      ]
     },
     "execution_count": 28,
     "metadata": {},
     "output_type": "execute_result"
    }
   ],
   "source": [
    "jclient.dataset_size(fold=0)"
   ]
  },
  {
   "cell_type": "markdown",
   "metadata": {},
   "source": [
    "## Data access\n",
    "\n",
    "The dataset is accessible in the form of python generators using the `create_generators` method."
   ]
  },
  {
   "cell_type": "code",
   "execution_count": 29,
   "metadata": {},
   "outputs": [],
   "source": [
    "gen_train, gen_valid = jclient.create_generators(test=True)"
   ]
  },
  {
   "cell_type": "code",
   "execution_count": 30,
   "metadata": {},
   "outputs": [
    {
     "name": "stdout",
     "output_type": "stream",
     "text": [
      "[ 2021-11-19 13:46:48 ] [>...................] 1.375% : Iterating | 000011      "
     ]
    }
   ],
   "source": [
    "for i, (xs, ys) in enumerate(gen_train):\n",
    "    if i == 10:\n",
    "        break"
   ]
  },
  {
   "cell_type": "code",
   "execution_count": 31,
   "metadata": {},
   "outputs": [
    {
     "name": "stdout",
     "output_type": "stream",
     "text": [
      "dat (1, 1, 512, 512, 1)\n",
      "msk (1, 1, 512, 512, 1)\n",
      "pna (1, 1, 512, 512, 1)\n"
     ]
    }
   ],
   "source": [
    "for k in xs:\n",
    "    print(k, xs[k].shape)"
   ]
  },
  {
   "cell_type": "code",
   "execution_count": 32,
   "metadata": {},
   "outputs": [],
   "source": [
    "for k in ys:\n",
    "    print(k, ys[k].shape)"
   ]
  }
 ],
 "metadata": {
  "kernelspec": {
   "display_name": "Python 3",
   "language": "python",
   "name": "python3"
  },
  "language_info": {
   "codemirror_mode": {
    "name": "ipython",
    "version": 3
   },
   "file_extension": ".py",
   "mimetype": "text/x-python",
   "name": "python",
   "nbconvert_exporter": "python",
   "pygments_lexer": "ipython3",
   "version": "3.8.5"
  }
 },
 "nbformat": 4,
 "nbformat_minor": 5
}
