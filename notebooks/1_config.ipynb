{
 "cells": [
  {
   "cell_type": "markdown",
   "metadata": {
    "tags": []
   },
   "source": [
    "# 1. Pipeline Configuration\n",
    "\n",
    "Starting point for loading different pipeline configurations.\n",
    "\n",
    "The configuration is hierarchical and mainly involves:\n",
    "\n",
    "1. `yml/client.yml`: data interface\n",
    "2. `yml/model.yml`: model interface\n",
    "3. `yml/train.yml`: training interface\n",
    "\n",
    "Additional configurations include:\n",
    "\n",
    "* `dir/*`: project settings for saving experiments\n",
    "* `lib/*`: libraries to pip install"
   ]
  },
  {
   "cell_type": "code",
   "execution_count": 1,
   "metadata": {},
   "outputs": [],
   "source": [
    "from __init__ import set_path\n",
    "\n",
    "set_path()  # sets python env path"
   ]
  },
  {
   "cell_type": "code",
   "execution_count": 2,
   "metadata": {},
   "outputs": [],
   "source": [
    "import tfcaidm\n",
    "from tfcaidm.jobs import config\n",
    "from tfcaidm.jobs import params"
   ]
  },
  {
   "cell_type": "markdown",
   "metadata": {
    "tags": []
   },
   "source": [
    "## Setup\n",
    "\n",
    "Supports loading from a `yaml`.\n"
   ]
  },
  {
   "cell_type": "code",
   "execution_count": 3,
   "metadata": {},
   "outputs": [],
   "source": [
    "YAML_PATH = \"/home/brandon/tfcaidm-pkg/configs/ymls/xr_pna/pipeline.yml\""
   ]
  },
  {
   "cell_type": "code",
   "execution_count": 7,
   "metadata": {},
   "outputs": [
    {
     "name": "stdout",
     "output_type": "stream",
     "text": [
      "---\n",
      "env:\n",
      "  path:\n",
      "    root: \"exp\"\n",
      "    name: \"xr_pna\"\n",
      "    client: \"/home/brandon/tfcaidm-pkg/configs/ymls/xr_pna/client.yml\"\n",
      "  lib:\n",
      "    # pytorch: [\"pytorch\", \"1.9.0\"]\n",
      "model:\n",
      "  model: [\"unet\"]\n",
      "  conv_type: [\"conv\"]\n",
      "  pool_type: [\"conv\"]\n",
      "  eblock: [\"conv\"]\n",
      "  elayer: [1]\n",
      "  dblock: [\"conv\"]\n",
      "  depth: [4]\n",
      "  width: [32]\n",
      "  width_scaling: [1]\n",
      "  kernel_size: [[3, 3, 3]]\n",
      "  strides: [[2, 2, 2]]\n",
      "  bneck: [2]\n",
      "  branches: [4]\n",
      "  atrous_rate: [6]\n",
      "  order: [\"rnc\"]\n",
      "  norm: [\"bnorm\"]\n",
      "  activ: [\"leaky\"]\n",
      "  attn_msk: [\"softmax\"]\n",
      "train:\n",
      "  xs:\n",
      "    dat:\n",
      "  ys:\n",
      "    pna:\n",
      "      mask_id: [\"msk\"]\n",
      "      remove_bg: [True]\n",
      "      mask_weight: [1]\n",
      "      output_weight: [5]\n",
      "      head: [\"decoder_classifier\"]\n",
      "      n_classes: [2]\n",
      "      loss: [\"sce\"]\n",
      "      metric: [\"dice\"]\n",
      "  trainer:\n",
      "    seed: [0]\n",
      "    n_folds: [1]\n",
      "    batch_size: [8]\n",
      "    iters: [3000]\n",
      "    steps: [100]\n",
      "    valid_freq: [5]\n",
      "    lr: [8e-5]\n",
      "    lr_alpha: [0.25] # range [0, 1]\n",
      "    lr_decay: [0.97] # range (0, 1]\n",
      "    callbacks: [[\"checkpoint\", \"lr_scheduler\", \"tensorboard\"]]\n"
     ]
    }
   ],
   "source": [
    "!cat /home/brandon/tfcaidm-pkg/configs/ymls/xr_pna/pipeline.yml"
   ]
  },
  {
   "cell_type": "markdown",
   "metadata": {
    "tags": []
   },
   "source": [
    "### YAML"
   ]
  },
  {
   "cell_type": "code",
   "execution_count": 5,
   "metadata": {},
   "outputs": [],
   "source": [
    "cfg = config.Config(path=YAML_PATH)"
   ]
  },
  {
   "cell_type": "code",
   "execution_count": 6,
   "metadata": {},
   "outputs": [
    {
     "data": {
      "text/plain": [
       "{'env': {'path': {'root': 'exp',\n",
       "   'name': 'xr_pna',\n",
       "   'client': '/home/brandon/tfcaidm-pkg/configs/ymls/xr_pna/client.yml'},\n",
       "  'lib': None},\n",
       " 'model': {'model': ['unet'],\n",
       "  'conv_type': ['conv'],\n",
       "  'pool_type': ['conv'],\n",
       "  'eblock': ['conv'],\n",
       "  'elayer': [1],\n",
       "  'dblock': ['conv'],\n",
       "  'depth': [4],\n",
       "  'width': [32],\n",
       "  'width_scaling': [1],\n",
       "  'kernel_size': [[3, 3, 3]],\n",
       "  'strides': [[2, 2, 2]],\n",
       "  'bneck': [2],\n",
       "  'branches': [4],\n",
       "  'atrous_rate': [6],\n",
       "  'order': ['rnc'],\n",
       "  'norm': ['bnorm'],\n",
       "  'activ': ['leaky'],\n",
       "  'attn_msk': ['softmax']},\n",
       " 'train': {'xs': {'dat': None},\n",
       "  'ys': {'pna': {'mask_id': ['msk'],\n",
       "    'remove_bg': [True],\n",
       "    'mask_weight': [1],\n",
       "    'output_weight': [5],\n",
       "    'head': ['decoder_classifier'],\n",
       "    'n_classes': [2],\n",
       "    'loss': ['sce'],\n",
       "    'metric': ['dice']}},\n",
       "  'trainer': {'seed': [0],\n",
       "   'n_folds': [1],\n",
       "   'batch_size': [8],\n",
       "   'iters': [3000],\n",
       "   'steps': [100],\n",
       "   'valid_freq': [5],\n",
       "   'lr': [8e-05],\n",
       "   'lr_alpha': [0.25],\n",
       "   'lr_decay': [0.97],\n",
       "   'callbacks': [['checkpoint', 'lr_scheduler', 'tensorboard']]}}}"
      ]
     },
     "execution_count": 6,
     "metadata": {},
     "output_type": "execute_result"
    }
   ],
   "source": [
    "cfg.config"
   ]
  }
 ],
 "metadata": {
  "kernelspec": {
   "display_name": "Python 3",
   "language": "python",
   "name": "python3"
  },
  "language_info": {
   "codemirror_mode": {
    "name": "ipython",
    "version": 3
   },
   "file_extension": ".py",
   "mimetype": "text/x-python",
   "name": "python",
   "nbconvert_exporter": "python",
   "pygments_lexer": "ipython3",
   "version": "3.8.5"
  }
 },
 "nbformat": 4,
 "nbformat_minor": 5
}
